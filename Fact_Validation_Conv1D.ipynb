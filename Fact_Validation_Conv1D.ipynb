{
  "nbformat": 4,
  "nbformat_minor": 0,
  "metadata": {
    "colab": {
      "name": "Fact Validation Conv1D.ipynb",
      "provenance": [],
      "collapsed_sections": [],
      "machine_shape": "hm"
    },
    "kernelspec": {
      "name": "python3",
      "display_name": "Python 3"
    },
    "accelerator": "GPU"
  },
  "cells": [
    {
      "cell_type": "code",
      "metadata": {
        "id": "87T5BetZQYQv",
        "colab_type": "code",
        "colab": {}
      },
      "source": [
        "import torch\n",
        "\n",
        "Labels_train_tensor = torch.load('/content/drive/My Drive/dataset/FactValidation/Labels_train.pt')\n",
        "Labels_test_tensor = torch.load('/content/drive/My Drive/dataset/FactValidation/Labels_test.pt')\n",
        "Labels_val_tensor = torch.load('/content/drive/My Drive/dataset/FactValidation/Labels_val.pt')\n",
        "\n",
        "Data_train_tensor_claims = torch.load('/content/drive/My Drive/dataset/Data_train_tensor_claims.pt')\n",
        "Data_test_tensor_claims = torch.load('/content/drive/My Drive/dataset/Data_test_tensor_claims.pt')\n",
        "Data_val_tensor_claims = torch.load('/content/drive/My Drive/dataset/Data_val_tensor_claims.pt')\n",
        "\n",
        "Data_train_tensor_evidences = torch.load('/content/drive/My Drive/dataset/Data_train_tensor_evidences.pt')\n",
        "Data_test_tensor_evidences = torch.load('/content/drive/My Drive/dataset/Data_test_tensor_evidences.pt')\n",
        "Data_val_tensor_evidences = torch.load('/content/drive/My Drive/dataset/Data_val_tensor_evidences.pt')"
      ],
      "execution_count": null,
      "outputs": []
    },
    {
      "cell_type": "code",
      "metadata": {
        "id": "QP8wF78g-36L",
        "colab_type": "code",
        "colab": {}
      },
      "source": [
        "#https://gist.github.com/spro/c87cc706625b8a54e604fb1024106556\n",
        "#https://stackoverflow.com/a/60591445/13858569\n",
        "import torch.nn as nn\n",
        "import math\n",
        "\n",
        "def calc_shape(L_in, conv, pool):\n",
        "\n",
        "  #default values\n",
        "  def_conv_padding = 0\n",
        "  def_conv_stride = 1\n",
        "  def_pool_padding = 0\n",
        "\n",
        "  for i in range(len(conv)) :\n",
        "\n",
        "    L_in = math.floor( ( (L_in + (2*def_conv_padding) - conv[i] ) / def_conv_stride) + 1 )\n",
        "    def_pool_stride = pool[i] #default MaxPool1D stride is kernel size\n",
        "    L_in = math.floor( ( (L_in + (2*def_pool_padding) - pool[i] ) / def_pool_stride) + 1 )\n",
        "  \n",
        "  return(L_in)\n",
        "\n",
        "\n",
        "class CNNClassifer(nn.Module):\n",
        "    \n",
        "    #define all the layers used in model\n",
        "    def __init__(self, num_classes = 3, \n",
        "                 embedding_dim = 768,\n",
        "                 seq_length = 128,\n",
        "                 conv_kernel_sizes = [2,1],\n",
        "                 pool_kernel_sizes = [2,2],\n",
        "                 out_channels = [10,10],\n",
        "                 hidden_size1 = 128, hidden_size2 = 128,\n",
        "                 dropout = 0.1):\n",
        "        \n",
        "        super(CNNClassifer, self).__init__()        \n",
        "        \n",
        "        self.conv1 = nn.Conv1d(in_channels = embedding_dim, out_channels = out_channels[0], kernel_size = conv_kernel_sizes[0])\n",
        "        self.pool1 = nn.MaxPool1d(kernel_size = pool_kernel_sizes[0])\n",
        "\n",
        "        self.conv2 = nn.Conv1d(in_channels = out_channels[0], out_channels = out_channels[1], kernel_size = conv_kernel_sizes[1])\n",
        "        self.pool2 = nn.MaxPool1d(kernel_size = pool_kernel_sizes[1])\n",
        "\n",
        "        self.fc_input_size = calc_shape(seq_length, conv = conv_kernel_sizes, pool = pool_kernel_sizes)\n",
        "\n",
        "        self.fc1 = nn.Linear(out_channels[-1]*self.fc_input_size*2, hidden_size1) #no. of output channels of last conv layer * last dimension of output from conv-maxpool layers * 2 for each claims and evidences embeddings\n",
        "        self.fc2 = nn.Linear(hidden_size1, hidden_size2)\n",
        "        self.out = nn.Linear(hidden_size2, num_classes)\n",
        "\n",
        "        self.dropout = nn.Dropout(dropout)\n",
        "        self.softmax = torch.nn.Softmax()\n",
        "        self.relu = nn.ReLU()\n",
        "        \n",
        "    def forward(self, claims_embedding, evidences_embedding):\n",
        "      \n",
        "        #Generated embeddings are of the shape [batch_size, seq_length, embedding_size]\n",
        "        #Input to conv1D will be [batch_size, embedding_size, seq_length], thus, need to transpose\n",
        "\n",
        "        claims_embedding = claims_embedding.transpose(1,2)\n",
        "        evidences_embedding = evidences_embedding.transpose(1,2)\n",
        "\n",
        "        # claims\n",
        "        x1 = self.relu(self.conv1(claims_embedding)) \n",
        "        x1 = self.pool1(x1)\n",
        "        x1 = self.relu(self.conv2(x1))\n",
        "        x1 = self.pool2(x1)\n",
        "        x1 = x1.flatten(1) #converting 3D tensor to 2D to concat\n",
        "\n",
        "\n",
        "        # evidences\n",
        "        x2 = self.relu(self.conv1(evidences_embedding)) \n",
        "        x2 = self.pool1(x2)\n",
        "        x2 = self.relu(self.conv2(x2))\n",
        "        x2 = self.pool2(x2)\n",
        "        x2 = x2.flatten(1) #converting 3D tensor to 2D to concat\n",
        "\n",
        "        \n",
        "        x = torch.cat((x1,x2),dim=1)\n",
        "\n",
        "\n",
        "        x = self.relu(self.fc1(x))\n",
        "        x = self.relu(self.fc2(x))\n",
        "        x = self.out(x)\n",
        "\n",
        "        \n",
        "        if(self.training) :\n",
        "            return x\n",
        "        else :\n",
        "            output = self.softmax(x)\n",
        "            return output"
      ],
      "execution_count": null,
      "outputs": []
    },
    {
      "cell_type": "code",
      "metadata": {
        "id": "iZpSHxxYhVF5",
        "colab_type": "code",
        "colab": {}
      },
      "source": [
        "import torch\n",
        "##from torch.nn import BCEWithLogitsLoss\n",
        "from torch.utils.data import TensorDataset, DataLoader, RandomSampler, SequentialSampler\n",
        "from tqdm import tqdm, trange\n",
        "from torch.optim import AdamW\n",
        "from sklearn import metrics\n",
        "import matplotlib.pyplot as plt\n",
        "% matplotlib inline\n",
        "import seaborn as sns\n",
        "import pandas as pd\n",
        "import numpy as np\n",
        "import time\n",
        "import datetime\n",
        "\n",
        "\n",
        "class Train_Test():\n",
        "\n",
        "    def __init__(self, Data_train_tensor_claims, Data_train_tensor_evidences, Labels_train_tensor, \n",
        "                 Data_test_tensor_claims, Data_test_tensor_evidences, Labels_test_tensor, \n",
        "                 Data_val_tensor_claims, Data_val_tensor_evidences, Labels_val_tensor,\n",
        "                 hidden_layer_size = 512, batch_size = 32, epochs = 10, learning_rate = 2e-5, dropout = 0.1):\n",
        "\n",
        "\n",
        "      self.model = CNNClassifer().cuda()\n",
        "      self.batch_size = batch_size\n",
        "      self.learning_rate = learning_rate\n",
        "      self.epochs = epochs\n",
        "      self.optimizer = self.SetOptimizer()\n",
        "      self.device = torch.device(\"cuda\" if torch.cuda.is_available() else \"cpu\")\n",
        "      self.epoch_loss_set = []\n",
        "      self.train_dataloader = self.SetTrainDataloader(Data_train_tensor_claims, Data_train_tensor_evidences, Labels_train_tensor)\n",
        "      self.test_dataloader = self.SetTestDataloader(Data_test_tensor_claims, Data_test_tensor_evidences, Labels_test_tensor) \n",
        "      #self.scheduler = self.SetScheduler()\n",
        "      self.val_accuracy_set = [] \n",
        "      self.val_dataloader = self.SetValDataloader(Data_val_tensor_claims, Data_val_tensor_evidences, Labels_val_tensor)\n",
        "      self.class_wise_metrics = None\n",
        "      self.results = pd.DataFrame(0, index=['metrics'], columns=['Accuracy','Precision','Recall','F_Score']).astype(float)\n",
        "\n",
        "\n",
        "    def SetOptimizer(self) :\n",
        "\n",
        "      optimizer = AdamW(self.model.parameters(), self.learning_rate, eps = 1e-6)\n",
        "      return(optimizer)\n",
        "\n",
        "    \n",
        "    '''\n",
        "    def SetScheduler(self) :\n",
        "\n",
        "      scheduler = get_linear_schedule_with_warmup(self.optimizer, num_warmup_steps = 10, \n",
        "                                                  num_training_steps = self.epochs*len(self.train_dataloader))\n",
        "      return(scheduler) \n",
        "    '''\n",
        "\n",
        "\n",
        "\n",
        "\n",
        "    def Get_Metrics(self, actual, predicted) :\n",
        "\n",
        "      self.results['Accuracy'] += metrics.accuracy_score(actual, predicted)\n",
        "      #self.results['Recall'] += metrics.recall_score(actual, predicted, average='micro')\n",
        "      #self.results['Precision'] += metrics.precision_score(actual, predicted, average='micro')\n",
        "      #self.results['F_Score'] += metrics.f1_score(actual, predicted, average='micro')\n",
        "\n",
        " \n",
        " \n",
        "    #source: https://mccormickml.com/2019/07/22/BERT-fine-tuning/\n",
        "    def Plot_Training_Epoch_Loss(self) :\n",
        "\n",
        "      sns.set(style='darkgrid')\n",
        "      sns.set(font_scale=1.5)\n",
        "      plt.rcParams[\"figure.figsize\"] = (12,6)\n",
        "      plt.plot(self.epoch_loss_set, 'b-o')\n",
        "      plt.title(\"Training loss\")\n",
        "      plt.xlabel(\"Epoch\")\n",
        "      plt.ylabel(\"Loss\")\n",
        "      plt.savefig('Training_Epoch_Loss.png',bbox_inches='tight')\n",
        "      plt.show()\n",
        "\n",
        "    \n",
        "    def Plot_Training_Epoch_Accuracy(self) :\n",
        "\n",
        "      sns.set(style='darkgrid')\n",
        "      sns.set(font_scale=1.5)\n",
        "      plt.rcParams[\"figure.figsize\"] = (12,6)\n",
        "      plt.plot(self.val_accuracy_set, 'b-o')\n",
        "      #plt.title(\"Micro F1 Score\") \n",
        "      plt.xlabel(\"Epoch\")\n",
        "      plt.ylabel(\"Validation Accuracy\")\n",
        "      plt.savefig('Training_Validation_Accuracy.png',bbox_inches='tight')\n",
        "      plt.show()\n",
        "\n",
        "\n",
        "    #source: https://mccormickml.com/2019/07/22/BERT-fine-tuning/\n",
        "    def format_time(self, elapsed):\n",
        "      '''\n",
        "      Takes a time in seconds and returns a string hh:mm:ss\n",
        "      '''\n",
        "      # Round to the nearest second.\n",
        "      elapsed_rounded = int(round((elapsed)))\n",
        "      return str(datetime.timedelta(seconds=elapsed_rounded))\n",
        "\n",
        "\n",
        "    def SetTrainDataloader(self, Data_train_tensor_claims, Data_train_tensor_evidences, Labels_train_tensor) :\n",
        "\n",
        "      train_dataset = TensorDataset(Data_train_tensor_claims, Data_train_tensor_evidences, Labels_train_tensor)\n",
        "      train_sampler = RandomSampler(train_dataset)\n",
        "      train_dataloader = DataLoader(train_dataset, sampler=train_sampler, batch_size = self.batch_size)\n",
        "      return(train_dataloader)\n",
        "\n",
        "\n",
        "    def SetTestDataloader(self, Data_test_tensor_claims, Data_test_tensor_evidences, Labels_test_tensor) :\n",
        "      \n",
        "      test_dataset = TensorDataset(Data_test_tensor_claims, Data_test_tensor_evidences, Labels_test_tensor)\n",
        "      test_sampler = SequentialSampler(test_dataset)\n",
        "      test_dataloader = DataLoader(test_dataset, sampler=test_sampler, batch_size = Data_test_tensor_claims.shape[0])\n",
        "      return(test_dataloader)\n",
        "\n",
        "    \n",
        "    def SetValDataloader(self, Data_val_tensor_claims, Data_val_tensor_evidences, Labels_val_tensor) :\n",
        "      \n",
        "      val_dataset = TensorDataset(Data_val_tensor_claims, Data_val_tensor_evidences, Labels_val_tensor)\n",
        "      val_sampler = SequentialSampler(val_dataset)\n",
        "      val_dataloader = DataLoader(val_dataset, sampler=val_sampler, batch_size = Data_val_tensor_claims.shape[0])\n",
        "      return(val_dataloader)\n",
        "\n",
        "   \n",
        "    def Train(self) :\n",
        "\n",
        "      for _ in trange(self.epochs, desc=\"Epoch\"):\n",
        "        \n",
        "        self.model.train()\n",
        "        epoch_loss = 0\n",
        "\n",
        "        # Measure how long the training epoch takes.\n",
        "        t0 = time.time()\n",
        "    \n",
        "        for step_num, batch_data in enumerate(self.train_dataloader):\n",
        "\n",
        "          # Progress update every 30 batches.\n",
        "          if step_num % 30 == 0 and not step_num == 0:\n",
        "            elapsed = self.format_time(time.time() - t0)\n",
        "            print('  Batch : ',step_num, ' , Time elapsed : ',elapsed)\n",
        "\n",
        "          samples_claims, samples_evidences, labels = tuple(t.to(self.device) for t in batch_data)\n",
        "          self.optimizer.zero_grad()\n",
        "          predictions = self.model(samples_claims, samples_evidences)\n",
        "          loss_fct = nn.CrossEntropyLoss()\n",
        "          batch_loss = loss_fct(predictions, labels)\n",
        "          batch_loss.backward()\n",
        "          self.optimizer.step()\n",
        "          #self.scheduler.step()\n",
        "          epoch_loss += batch_loss.item()\n",
        "\n",
        "        avg_epoch_loss = epoch_loss/len(self.train_dataloader)\n",
        "        print(\"\\nTrain loss for epoch: \",avg_epoch_loss)\n",
        "        print(\"\\nTraining epoch took: {:}\".format(self.format_time(time.time() - t0)))\n",
        "        self.epoch_loss_set.append(avg_epoch_loss)\n",
        "\n",
        "        \n",
        "        #Validation on the epoch\n",
        "        self.model.eval()\n",
        "        epoch_accu_score = 0\n",
        "\n",
        "        for batch_data in self.val_dataloader:\n",
        "          samples_claims, samples_evidences, labels = tuple(t.to(self.device) for t in batch_data)\n",
        "          with torch.no_grad():\n",
        "            output = self.model(samples_claims, samples_evidences)\n",
        "\n",
        "          #threshold = torch.Tensor([self.sigmoid_thresh]).to(self.device)\n",
        "          #predictions = (output > threshold).int()\n",
        "\n",
        "          predictions = torch.argmax(output,dim=1).to('cpu').numpy()\n",
        "          labels = labels.to('cpu').numpy()\n",
        "      \n",
        "          accu_score = metrics.accuracy_score(labels, predictions)\n",
        "          epoch_accu_score += accu_score\n",
        "\n",
        "        avg_accu_score = epoch_accu_score/len(self.val_dataloader)\n",
        "        print(\"\\n Accuracy score for epoch: \",avg_accu_score,\"\\n\")\n",
        "        self.val_accuracy_set.append(avg_accu_score)\n",
        "\n",
        "      torch.save(self.model.state_dict(), \"/content/drive/My Drive/dataset/model.pt\")\n",
        "      self.Plot_Training_Epoch_Loss()\n",
        "      self.Plot_Training_Epoch_Accuracy()\n",
        "      \n",
        "   \n",
        "\n",
        "    def Test(self) :\n",
        "\n",
        "      # Put model in evaluation mode to evaluate loss on the test set\n",
        "      self.model.eval()\n",
        "\n",
        "      for batch_data in self.test_dataloader:\n",
        "  \n",
        "        samples_claims, samples_evidences, labels = tuple(t.to(self.device) for t in batch_data)\n",
        "      \n",
        "        with torch.no_grad():\n",
        "          output = self.model(samples_claims, samples_evidences)\n",
        "\n",
        "        predictions = torch.argmax(output,dim=1).to('cpu').numpy()\n",
        "        labels = labels.to('cpu').numpy()      \n",
        "      \n",
        "        self.Get_Metrics(labels, predictions)\n",
        "        ##self.class_wise_metrics = metrics.classification_report(labels, predictions, target_names= list(self.label_names))\n",
        "        \n",
        "    \n",
        "      self.results = self.results/len(self.test_dataloader)\n",
        "      #print(\"Test data metrics : \\n\")\n",
        "\n",
        "      \n",
        "      return(self.results)\n"
      ],
      "execution_count": null,
      "outputs": []
    },
    {
      "cell_type": "code",
      "metadata": {
        "id": "YHHEcWr4BC7T",
        "colab_type": "code",
        "colab": {
          "base_uri": "https://localhost:8080/",
          "height": 1000
        },
        "outputId": "066431b1-8c2c-4fe1-d5ae-7e123e82891f"
      },
      "source": [
        "train_test = Train_Test(Data_train_tensor_claims, Data_train_tensor_evidences, Labels_train_tensor, \n",
        "                 Data_test_tensor_claims, Data_test_tensor_evidences, Labels_test_tensor, \n",
        "                 Data_val_tensor_claims, Data_val_tensor_evidences, Labels_val_tensor,\n",
        "                 hidden_layer_size = 256, batch_size = 32, epochs = 50, learning_rate = 0.005, dropout = 0.2)\n",
        "train_test.Train()\n",
        "train_test.Test()"
      ],
      "execution_count": null,
      "outputs": [
        {
          "output_type": "stream",
          "text": [
            "\n",
            "\n",
            "Epoch:   0%|          | 0/50 [00:00<?, ?it/s]\u001b[A\u001b[A"
          ],
          "name": "stderr"
        },
        {
          "output_type": "stream",
          "text": [
            "  Batch :  30  , Time elapsed :  0:00:00\n",
            "  Batch :  60  , Time elapsed :  0:00:00\n",
            "  Batch :  90  , Time elapsed :  0:00:01\n",
            "  Batch :  120  , Time elapsed :  0:00:01\n",
            "  Batch :  150  , Time elapsed :  0:00:01\n",
            "  Batch :  180  , Time elapsed :  0:00:01\n"
          ],
          "name": "stdout"
        },
        {
          "output_type": "stream",
          "text": [
            "/usr/local/lib/python3.6/dist-packages/ipykernel_launcher.py:87: UserWarning: Implicit dimension choice for softmax has been deprecated. Change the call to include dim=X as an argument.\n",
            "\n",
            "\n",
            "Epoch:   2%|▏         | 1/50 [00:01<00:53,  1.08s/it]\u001b[A\u001b[A"
          ],
          "name": "stderr"
        },
        {
          "output_type": "stream",
          "text": [
            "\n",
            "Train loss for epoch:  1.0790326896466707\n",
            "\n",
            "Training epoch took: 0:00:01\n",
            "\n",
            " Accuracy score for epoch:  0.4398216939078752 \n",
            "\n",
            "  Batch :  30  , Time elapsed :  0:00:00\n",
            "  Batch :  60  , Time elapsed :  0:00:00\n",
            "  Batch :  90  , Time elapsed :  0:00:00\n",
            "  Batch :  120  , Time elapsed :  0:00:01\n",
            "  Batch :  150  , Time elapsed :  0:00:01\n"
          ],
          "name": "stdout"
        },
        {
          "output_type": "stream",
          "text": [
            "\n",
            "\n",
            "Epoch:   4%|▍         | 2/50 [00:02<00:52,  1.09s/it]\u001b[A\u001b[A"
          ],
          "name": "stderr"
        },
        {
          "output_type": "stream",
          "text": [
            "  Batch :  180  , Time elapsed :  0:00:01\n",
            "\n",
            "Train loss for epoch:  0.9703137987538388\n",
            "\n",
            "Training epoch took: 0:00:01\n",
            "\n",
            " Accuracy score for epoch:  0.5156017830609212 \n",
            "\n",
            "  Batch :  30  , Time elapsed :  0:00:00\n",
            "  Batch :  60  , Time elapsed :  0:00:00\n",
            "  Batch :  90  , Time elapsed :  0:00:01\n",
            "  Batch :  120  , Time elapsed :  0:00:01\n",
            "  Batch :  150  , Time elapsed :  0:00:01\n",
            "  Batch :  180  , Time elapsed :  0:00:01\n"
          ],
          "name": "stdout"
        },
        {
          "output_type": "stream",
          "text": [
            "\n",
            "\n",
            "Epoch:   6%|▌         | 3/50 [00:03<00:51,  1.09s/it]\u001b[A\u001b[A"
          ],
          "name": "stderr"
        },
        {
          "output_type": "stream",
          "text": [
            "\n",
            "Train loss for epoch:  0.8660726161379563\n",
            "\n",
            "Training epoch took: 0:00:01\n",
            "\n",
            " Accuracy score for epoch:  0.5289747399702823 \n",
            "\n",
            "  Batch :  30  , Time elapsed :  0:00:00\n",
            "  Batch :  60  , Time elapsed :  0:00:00\n",
            "  Batch :  90  , Time elapsed :  0:00:01\n",
            "  Batch :  120  , Time elapsed :  0:00:01\n",
            "  Batch :  150  , Time elapsed :  0:00:01\n"
          ],
          "name": "stdout"
        },
        {
          "output_type": "stream",
          "text": [
            "\n",
            "\n",
            "Epoch:   8%|▊         | 4/50 [00:04<00:50,  1.09s/it]\u001b[A\u001b[A"
          ],
          "name": "stderr"
        },
        {
          "output_type": "stream",
          "text": [
            "  Batch :  180  , Time elapsed :  0:00:01\n",
            "\n",
            "Train loss for epoch:  0.8287281318714744\n",
            "\n",
            "Training epoch took: 0:00:01\n",
            "\n",
            " Accuracy score for epoch:  0.5349182763744428 \n",
            "\n",
            "  Batch :  30  , Time elapsed :  0:00:00\n",
            "  Batch :  60  , Time elapsed :  0:00:00\n",
            "  Batch :  90  , Time elapsed :  0:00:01\n",
            "  Batch :  120  , Time elapsed :  0:00:01\n",
            "  Batch :  150  , Time elapsed :  0:00:01\n",
            "  Batch :  180  , Time elapsed :  0:00:01\n"
          ],
          "name": "stdout"
        },
        {
          "output_type": "stream",
          "text": [
            "\n",
            "\n",
            "Epoch:  10%|█         | 5/50 [00:05<00:49,  1.09s/it]\u001b[A\u001b[A"
          ],
          "name": "stderr"
        },
        {
          "output_type": "stream",
          "text": [
            "\n",
            "Train loss for epoch:  0.7989037516869997\n",
            "\n",
            "Training epoch took: 0:00:01\n",
            "\n",
            " Accuracy score for epoch:  0.5542347696879644 \n",
            "\n",
            "  Batch :  30  , Time elapsed :  0:00:00\n",
            "  Batch :  60  , Time elapsed :  0:00:00\n",
            "  Batch :  90  , Time elapsed :  0:00:01\n",
            "  Batch :  120  , Time elapsed :  0:00:01\n",
            "  Batch :  150  , Time elapsed :  0:00:01\n"
          ],
          "name": "stdout"
        },
        {
          "output_type": "stream",
          "text": [
            "\n",
            "\n",
            "Epoch:  12%|█▏        | 6/50 [00:06<00:47,  1.09s/it]\u001b[A\u001b[A"
          ],
          "name": "stderr"
        },
        {
          "output_type": "stream",
          "text": [
            "  Batch :  180  , Time elapsed :  0:00:01\n",
            "\n",
            "Train loss for epoch:  0.7726775360734839\n",
            "\n",
            "Training epoch took: 0:00:01\n",
            "\n",
            " Accuracy score for epoch:  0.5393759286775631 \n",
            "\n",
            "  Batch :  30  , Time elapsed :  0:00:00\n",
            "  Batch :  60  , Time elapsed :  0:00:00\n",
            "  Batch :  90  , Time elapsed :  0:00:01\n",
            "  Batch :  120  , Time elapsed :  0:00:01\n",
            "  Batch :  150  , Time elapsed :  0:00:01\n",
            "  Batch :  180  , Time elapsed :  0:00:01\n"
          ],
          "name": "stdout"
        },
        {
          "output_type": "stream",
          "text": [
            "\n",
            "\n",
            "Epoch:  14%|█▍        | 7/50 [00:07<00:46,  1.09s/it]\u001b[A\u001b[A"
          ],
          "name": "stderr"
        },
        {
          "output_type": "stream",
          "text": [
            "\n",
            "Train loss for epoch:  0.7442714201776605\n",
            "\n",
            "Training epoch took: 0:00:01\n",
            "\n",
            " Accuracy score for epoch:  0.5676077265973254 \n",
            "\n",
            "  Batch :  30  , Time elapsed :  0:00:00\n",
            "  Batch :  60  , Time elapsed :  0:00:00\n",
            "  Batch :  90  , Time elapsed :  0:00:01\n",
            "  Batch :  120  , Time elapsed :  0:00:01\n",
            "  Batch :  150  , Time elapsed :  0:00:01\n"
          ],
          "name": "stdout"
        },
        {
          "output_type": "stream",
          "text": [
            "\n",
            "\n",
            "Epoch:  16%|█▌        | 8/50 [00:08<00:45,  1.09s/it]\u001b[A\u001b[A"
          ],
          "name": "stderr"
        },
        {
          "output_type": "stream",
          "text": [
            "  Batch :  180  , Time elapsed :  0:00:01\n",
            "\n",
            "Train loss for epoch:  0.7216036705594314\n",
            "\n",
            "Training epoch took: 0:00:01\n",
            "\n",
            " Accuracy score for epoch:  0.5809806835066865 \n",
            "\n",
            "  Batch :  30  , Time elapsed :  0:00:00\n",
            "  Batch :  60  , Time elapsed :  0:00:00\n",
            "  Batch :  90  , Time elapsed :  0:00:01\n",
            "  Batch :  120  , Time elapsed :  0:00:01\n",
            "  Batch :  150  , Time elapsed :  0:00:01\n",
            "  Batch :  180  , Time elapsed :  0:00:01\n"
          ],
          "name": "stdout"
        },
        {
          "output_type": "stream",
          "text": [
            "\n",
            "\n",
            "Epoch:  18%|█▊        | 9/50 [00:09<00:44,  1.09s/it]\u001b[A\u001b[A"
          ],
          "name": "stderr"
        },
        {
          "output_type": "stream",
          "text": [
            "\n",
            "Train loss for epoch:  0.7011962840431615\n",
            "\n",
            "Training epoch took: 0:00:01\n",
            "\n",
            " Accuracy score for epoch:  0.563150074294205 \n",
            "\n",
            "  Batch :  30  , Time elapsed :  0:00:00\n",
            "  Batch :  60  , Time elapsed :  0:00:00\n",
            "  Batch :  90  , Time elapsed :  0:00:01\n",
            "  Batch :  120  , Time elapsed :  0:00:01\n",
            "  Batch :  150  , Time elapsed :  0:00:01\n"
          ],
          "name": "stdout"
        },
        {
          "output_type": "stream",
          "text": [
            "\n",
            "\n",
            "Epoch:  20%|██        | 10/50 [00:10<00:43,  1.09s/it]\u001b[A\u001b[A"
          ],
          "name": "stderr"
        },
        {
          "output_type": "stream",
          "text": [
            "  Batch :  180  , Time elapsed :  0:00:01\n",
            "\n",
            "Train loss for epoch:  0.6815022735219253\n",
            "\n",
            "Training epoch took: 0:00:01\n",
            "\n",
            " Accuracy score for epoch:  0.5884101040118871 \n",
            "\n",
            "  Batch :  30  , Time elapsed :  0:00:00\n",
            "  Batch :  60  , Time elapsed :  0:00:00\n",
            "  Batch :  90  , Time elapsed :  0:00:01\n",
            "  Batch :  120  , Time elapsed :  0:00:01\n",
            "  Batch :  150  , Time elapsed :  0:00:01\n",
            "  Batch :  180  , Time elapsed :  0:00:01\n"
          ],
          "name": "stdout"
        },
        {
          "output_type": "stream",
          "text": [
            "\n",
            "\n",
            "Epoch:  22%|██▏       | 11/50 [00:11<00:42,  1.09s/it]\u001b[A\u001b[A"
          ],
          "name": "stderr"
        },
        {
          "output_type": "stream",
          "text": [
            "\n",
            "Train loss for epoch:  0.6566311993097004\n",
            "\n",
            "Training epoch took: 0:00:01\n",
            "\n",
            " Accuracy score for epoch:  0.586924219910847 \n",
            "\n",
            "  Batch :  30  , Time elapsed :  0:00:00\n",
            "  Batch :  60  , Time elapsed :  0:00:00\n",
            "  Batch :  90  , Time elapsed :  0:00:01\n",
            "  Batch :  120  , Time elapsed :  0:00:01\n",
            "  Batch :  150  , Time elapsed :  0:00:01\n"
          ],
          "name": "stdout"
        },
        {
          "output_type": "stream",
          "text": [
            "\n",
            "\n",
            "Epoch:  24%|██▍       | 12/50 [00:13<00:41,  1.09s/it]\u001b[A\u001b[A"
          ],
          "name": "stderr"
        },
        {
          "output_type": "stream",
          "text": [
            "  Batch :  180  , Time elapsed :  0:00:01\n",
            "\n",
            "Train loss for epoch:  0.6344194953378878\n",
            "\n",
            "Training epoch took: 0:00:01\n",
            "\n",
            " Accuracy score for epoch:  0.5973254086181278 \n",
            "\n",
            "  Batch :  30  , Time elapsed :  0:00:00\n",
            "  Batch :  60  , Time elapsed :  0:00:00\n",
            "  Batch :  90  , Time elapsed :  0:00:00\n",
            "  Batch :  120  , Time elapsed :  0:00:01\n",
            "  Batch :  150  , Time elapsed :  0:00:01\n",
            "  Batch :  180  , Time elapsed :  0:00:01\n"
          ],
          "name": "stdout"
        },
        {
          "output_type": "stream",
          "text": [
            "\n",
            "\n",
            "Epoch:  26%|██▌       | 13/50 [00:14<00:40,  1.08s/it]\u001b[A\u001b[A"
          ],
          "name": "stderr"
        },
        {
          "output_type": "stream",
          "text": [
            "\n",
            "Train loss for epoch:  0.6047322070912311\n",
            "\n",
            "Training epoch took: 0:00:01\n",
            "\n",
            " Accuracy score for epoch:  0.5958395245170877 \n",
            "\n",
            "  Batch :  30  , Time elapsed :  0:00:00\n",
            "  Batch :  60  , Time elapsed :  0:00:00\n",
            "  Batch :  90  , Time elapsed :  0:00:00\n",
            "  Batch :  120  , Time elapsed :  0:00:01\n",
            "  Batch :  150  , Time elapsed :  0:00:01\n"
          ],
          "name": "stdout"
        },
        {
          "output_type": "stream",
          "text": [
            "\n",
            "\n",
            "Epoch:  28%|██▊       | 14/50 [00:15<00:38,  1.08s/it]\u001b[A\u001b[A"
          ],
          "name": "stderr"
        },
        {
          "output_type": "stream",
          "text": [
            "  Batch :  180  , Time elapsed :  0:00:01\n",
            "\n",
            "Train loss for epoch:  0.5942503568373229\n",
            "\n",
            "Training epoch took: 0:00:01\n",
            "\n",
            " Accuracy score for epoch:  0.600297176820208 \n",
            "\n",
            "  Batch :  30  , Time elapsed :  0:00:00\n",
            "  Batch :  60  , Time elapsed :  0:00:00\n",
            "  Batch :  90  , Time elapsed :  0:00:00\n",
            "  Batch :  120  , Time elapsed :  0:00:01\n",
            "  Batch :  150  , Time elapsed :  0:00:01\n",
            "  Batch :  180  , Time elapsed :  0:00:01\n"
          ],
          "name": "stdout"
        },
        {
          "output_type": "stream",
          "text": [
            "\n",
            "\n",
            "Epoch:  30%|███       | 15/50 [00:16<00:37,  1.07s/it]\u001b[A\u001b[A"
          ],
          "name": "stderr"
        },
        {
          "output_type": "stream",
          "text": [
            "\n",
            "Train loss for epoch:  0.5754566556528995\n",
            "\n",
            "Training epoch took: 0:00:01\n",
            "\n",
            " Accuracy score for epoch:  0.600297176820208 \n",
            "\n",
            "  Batch :  30  , Time elapsed :  0:00:00\n",
            "  Batch :  60  , Time elapsed :  0:00:00\n",
            "  Batch :  90  , Time elapsed :  0:00:00\n",
            "  Batch :  120  , Time elapsed :  0:00:01\n",
            "  Batch :  150  , Time elapsed :  0:00:01\n"
          ],
          "name": "stdout"
        },
        {
          "output_type": "stream",
          "text": [
            "\n",
            "\n",
            "Epoch:  32%|███▏      | 16/50 [00:17<00:36,  1.07s/it]\u001b[A\u001b[A"
          ],
          "name": "stderr"
        },
        {
          "output_type": "stream",
          "text": [
            "  Batch :  180  , Time elapsed :  0:00:01\n",
            "\n",
            "Train loss for epoch:  0.5551556259393692\n",
            "\n",
            "Training epoch took: 0:00:01\n",
            "\n",
            " Accuracy score for epoch:  0.6136701337295691 \n",
            "\n",
            "  Batch :  30  , Time elapsed :  0:00:00\n",
            "  Batch :  60  , Time elapsed :  0:00:00\n",
            "  Batch :  90  , Time elapsed :  0:00:00\n",
            "  Batch :  120  , Time elapsed :  0:00:01\n",
            "  Batch :  150  , Time elapsed :  0:00:01\n",
            "  Batch :  180  , Time elapsed :  0:00:01\n"
          ],
          "name": "stdout"
        },
        {
          "output_type": "stream",
          "text": [
            "\n",
            "\n",
            "Epoch:  34%|███▍      | 17/50 [00:18<00:35,  1.07s/it]\u001b[A\u001b[A"
          ],
          "name": "stderr"
        },
        {
          "output_type": "stream",
          "text": [
            "\n",
            "Train loss for epoch:  0.5182860393273203\n",
            "\n",
            "Training epoch took: 0:00:01\n",
            "\n",
            " Accuracy score for epoch:  0.6106983655274889 \n",
            "\n",
            "  Batch :  30  , Time elapsed :  0:00:00\n",
            "  Batch :  60  , Time elapsed :  0:00:00\n",
            "  Batch :  90  , Time elapsed :  0:00:00\n",
            "  Batch :  120  , Time elapsed :  0:00:01\n",
            "  Batch :  150  , Time elapsed :  0:00:01\n"
          ],
          "name": "stdout"
        },
        {
          "output_type": "stream",
          "text": [
            "\n",
            "\n",
            "Epoch:  36%|███▌      | 18/50 [00:19<00:34,  1.06s/it]\u001b[A\u001b[A"
          ],
          "name": "stderr"
        },
        {
          "output_type": "stream",
          "text": [
            "  Batch :  180  , Time elapsed :  0:00:01\n",
            "\n",
            "Train loss for epoch:  0.5071750445585502\n",
            "\n",
            "Training epoch took: 0:00:01\n",
            "\n",
            " Accuracy score for epoch:  0.6210995542347697 \n",
            "\n",
            "  Batch :  30  , Time elapsed :  0:00:00\n",
            "  Batch :  60  , Time elapsed :  0:00:00\n",
            "  Batch :  90  , Time elapsed :  0:00:00\n",
            "  Batch :  120  , Time elapsed :  0:00:01\n",
            "  Batch :  150  , Time elapsed :  0:00:01\n",
            "  Batch :  180  , Time elapsed :  0:00:01\n"
          ],
          "name": "stdout"
        },
        {
          "output_type": "stream",
          "text": [
            "\n",
            "\n",
            "Epoch:  38%|███▊      | 19/50 [00:20<00:32,  1.06s/it]\u001b[A\u001b[A"
          ],
          "name": "stderr"
        },
        {
          "output_type": "stream",
          "text": [
            "\n",
            "Train loss for epoch:  0.5170179765475423\n",
            "\n",
            "Training epoch took: 0:00:01\n",
            "\n",
            " Accuracy score for epoch:  0.612184249628529 \n",
            "\n",
            "  Batch :  30  , Time elapsed :  0:00:00\n",
            "  Batch :  60  , Time elapsed :  0:00:00\n",
            "  Batch :  90  , Time elapsed :  0:00:00\n",
            "  Batch :  120  , Time elapsed :  0:00:01\n",
            "  Batch :  150  , Time elapsed :  0:00:01\n"
          ],
          "name": "stdout"
        },
        {
          "output_type": "stream",
          "text": [
            "\n",
            "\n",
            "Epoch:  40%|████      | 20/50 [00:21<00:31,  1.06s/it]\u001b[A\u001b[A"
          ],
          "name": "stderr"
        },
        {
          "output_type": "stream",
          "text": [
            "  Batch :  180  , Time elapsed :  0:00:01\n",
            "\n",
            "Train loss for epoch:  0.4861613670462056\n",
            "\n",
            "Training epoch took: 0:00:01\n",
            "\n",
            " Accuracy score for epoch:  0.6136701337295691 \n",
            "\n",
            "  Batch :  30  , Time elapsed :  0:00:00\n",
            "  Batch :  60  , Time elapsed :  0:00:00\n",
            "  Batch :  90  , Time elapsed :  0:00:00\n",
            "  Batch :  120  , Time elapsed :  0:00:01\n",
            "  Batch :  150  , Time elapsed :  0:00:01\n",
            "  Batch :  180  , Time elapsed :  0:00:01\n"
          ],
          "name": "stdout"
        },
        {
          "output_type": "stream",
          "text": [
            "\n",
            "\n",
            "Epoch:  42%|████▏     | 21/50 [00:22<00:30,  1.06s/it]\u001b[A\u001b[A"
          ],
          "name": "stderr"
        },
        {
          "output_type": "stream",
          "text": [
            "\n",
            "Train loss for epoch:  0.46728479462234596\n",
            "\n",
            "Training epoch took: 0:00:01\n",
            "\n",
            " Accuracy score for epoch:  0.5973254086181278 \n",
            "\n",
            "  Batch :  30  , Time elapsed :  0:00:00\n",
            "  Batch :  60  , Time elapsed :  0:00:00\n",
            "  Batch :  90  , Time elapsed :  0:00:00\n",
            "  Batch :  120  , Time elapsed :  0:00:01\n",
            "  Batch :  150  , Time elapsed :  0:00:01\n"
          ],
          "name": "stdout"
        },
        {
          "output_type": "stream",
          "text": [
            "\n",
            "\n",
            "Epoch:  44%|████▍     | 22/50 [00:23<00:29,  1.06s/it]\u001b[A\u001b[A"
          ],
          "name": "stderr"
        },
        {
          "output_type": "stream",
          "text": [
            "  Batch :  180  , Time elapsed :  0:00:01\n",
            "\n",
            "Train loss for epoch:  0.4629155046845737\n",
            "\n",
            "Training epoch took: 0:00:01\n",
            "\n",
            " Accuracy score for epoch:  0.6047548291233283 \n",
            "\n",
            "  Batch :  30  , Time elapsed :  0:00:00\n",
            "  Batch :  60  , Time elapsed :  0:00:00\n",
            "  Batch :  90  , Time elapsed :  0:00:00\n",
            "  Batch :  120  , Time elapsed :  0:00:01\n",
            "  Batch :  150  , Time elapsed :  0:00:01\n",
            "  Batch :  180  , Time elapsed :  0:00:01\n"
          ],
          "name": "stdout"
        },
        {
          "output_type": "stream",
          "text": [
            "\n",
            "\n",
            "Epoch:  46%|████▌     | 23/50 [00:24<00:28,  1.06s/it]\u001b[A\u001b[A"
          ],
          "name": "stderr"
        },
        {
          "output_type": "stream",
          "text": [
            "\n",
            "Train loss for epoch:  0.43614886457982815\n",
            "\n",
            "Training epoch took: 0:00:01\n",
            "\n",
            " Accuracy score for epoch:  0.612184249628529 \n",
            "\n",
            "  Batch :  30  , Time elapsed :  0:00:00\n",
            "  Batch :  60  , Time elapsed :  0:00:00\n",
            "  Batch :  90  , Time elapsed :  0:00:00\n",
            "  Batch :  120  , Time elapsed :  0:00:01\n",
            "  Batch :  150  , Time elapsed :  0:00:01\n"
          ],
          "name": "stdout"
        },
        {
          "output_type": "stream",
          "text": [
            "\n",
            "\n",
            "Epoch:  48%|████▊     | 24/50 [00:25<00:27,  1.06s/it]\u001b[A\u001b[A"
          ],
          "name": "stderr"
        },
        {
          "output_type": "stream",
          "text": [
            "  Batch :  180  , Time elapsed :  0:00:01\n",
            "\n",
            "Train loss for epoch:  0.42118397174697175\n",
            "\n",
            "Training epoch took: 0:00:01\n",
            "\n",
            " Accuracy score for epoch:  0.6077265973254086 \n",
            "\n",
            "  Batch :  30  , Time elapsed :  0:00:00\n",
            "  Batch :  60  , Time elapsed :  0:00:00\n",
            "  Batch :  90  , Time elapsed :  0:00:00\n",
            "  Batch :  120  , Time elapsed :  0:00:01\n",
            "  Batch :  150  , Time elapsed :  0:00:01\n",
            "  Batch :  180  , Time elapsed :  0:00:01\n"
          ],
          "name": "stdout"
        },
        {
          "output_type": "stream",
          "text": [
            "\n",
            "\n",
            "Epoch:  50%|█████     | 25/50 [00:26<00:26,  1.06s/it]\u001b[A\u001b[A"
          ],
          "name": "stderr"
        },
        {
          "output_type": "stream",
          "text": [
            "\n",
            "Train loss for epoch:  0.40696109007847936\n",
            "\n",
            "Training epoch took: 0:00:01\n",
            "\n",
            " Accuracy score for epoch:  0.6077265973254086 \n",
            "\n",
            "  Batch :  30  , Time elapsed :  0:00:00\n",
            "  Batch :  60  , Time elapsed :  0:00:00\n",
            "  Batch :  90  , Time elapsed :  0:00:00\n",
            "  Batch :  120  , Time elapsed :  0:00:01\n",
            "  Batch :  150  , Time elapsed :  0:00:01\n"
          ],
          "name": "stdout"
        },
        {
          "output_type": "stream",
          "text": [
            "\n",
            "\n",
            "Epoch:  52%|█████▏    | 26/50 [00:27<00:25,  1.06s/it]\u001b[A\u001b[A"
          ],
          "name": "stderr"
        },
        {
          "output_type": "stream",
          "text": [
            "  Batch :  180  , Time elapsed :  0:00:01\n",
            "\n",
            "Train loss for epoch:  0.41848778246264706\n",
            "\n",
            "Training epoch took: 0:00:01\n",
            "\n",
            " Accuracy score for epoch:  0.6077265973254086 \n",
            "\n",
            "  Batch :  30  , Time elapsed :  0:00:00\n",
            "  Batch :  60  , Time elapsed :  0:00:00\n",
            "  Batch :  90  , Time elapsed :  0:00:00\n",
            "  Batch :  120  , Time elapsed :  0:00:01\n",
            "  Batch :  150  , Time elapsed :  0:00:01\n",
            "  Batch :  180  , Time elapsed :  0:00:01\n"
          ],
          "name": "stdout"
        },
        {
          "output_type": "stream",
          "text": [
            "\n",
            "\n",
            "Epoch:  54%|█████▍    | 27/50 [00:29<00:24,  1.06s/it]\u001b[A\u001b[A"
          ],
          "name": "stderr"
        },
        {
          "output_type": "stream",
          "text": [
            "\n",
            "Train loss for epoch:  0.40329949981287905\n",
            "\n",
            "Training epoch took: 0:00:01\n",
            "\n",
            " Accuracy score for epoch:  0.6106983655274889 \n",
            "\n",
            "  Batch :  30  , Time elapsed :  0:00:00\n",
            "  Batch :  60  , Time elapsed :  0:00:00\n",
            "  Batch :  90  , Time elapsed :  0:00:00\n",
            "  Batch :  120  , Time elapsed :  0:00:01\n",
            "  Batch :  150  , Time elapsed :  0:00:01\n"
          ],
          "name": "stdout"
        },
        {
          "output_type": "stream",
          "text": [
            "\n",
            "\n",
            "Epoch:  56%|█████▌    | 28/50 [00:30<00:23,  1.06s/it]\u001b[A\u001b[A"
          ],
          "name": "stderr"
        },
        {
          "output_type": "stream",
          "text": [
            "  Batch :  180  , Time elapsed :  0:00:01\n",
            "\n",
            "Train loss for epoch:  0.3789757028222084\n",
            "\n",
            "Training epoch took: 0:00:01\n",
            "\n",
            " Accuracy score for epoch:  0.5958395245170877 \n",
            "\n",
            "  Batch :  30  , Time elapsed :  0:00:00\n",
            "  Batch :  60  , Time elapsed :  0:00:00\n",
            "  Batch :  90  , Time elapsed :  0:00:00\n",
            "  Batch :  120  , Time elapsed :  0:00:01\n",
            "  Batch :  150  , Time elapsed :  0:00:01\n",
            "  Batch :  180  , Time elapsed :  0:00:01\n"
          ],
          "name": "stdout"
        },
        {
          "output_type": "stream",
          "text": [
            "\n",
            "\n",
            "Epoch:  58%|█████▊    | 29/50 [00:31<00:22,  1.06s/it]\u001b[A\u001b[A"
          ],
          "name": "stderr"
        },
        {
          "output_type": "stream",
          "text": [
            "\n",
            "Train loss for epoch:  0.4131999821255082\n",
            "\n",
            "Training epoch took: 0:00:01\n",
            "\n",
            " Accuracy score for epoch:  0.6032689450222882 \n",
            "\n",
            "  Batch :  30  , Time elapsed :  0:00:00\n",
            "  Batch :  60  , Time elapsed :  0:00:00\n",
            "  Batch :  90  , Time elapsed :  0:00:00\n",
            "  Batch :  120  , Time elapsed :  0:00:01\n",
            "  Batch :  150  , Time elapsed :  0:00:01\n"
          ],
          "name": "stdout"
        },
        {
          "output_type": "stream",
          "text": [
            "\n",
            "\n",
            "Epoch:  60%|██████    | 30/50 [00:32<00:21,  1.06s/it]\u001b[A\u001b[A"
          ],
          "name": "stderr"
        },
        {
          "output_type": "stream",
          "text": [
            "  Batch :  180  , Time elapsed :  0:00:01\n",
            "\n",
            "Train loss for epoch:  0.356870784414442\n",
            "\n",
            "Training epoch took: 0:00:01\n",
            "\n",
            " Accuracy score for epoch:  0.6077265973254086 \n",
            "\n",
            "  Batch :  30  , Time elapsed :  0:00:00\n",
            "  Batch :  60  , Time elapsed :  0:00:00\n",
            "  Batch :  90  , Time elapsed :  0:00:00\n",
            "  Batch :  120  , Time elapsed :  0:00:01\n",
            "  Batch :  150  , Time elapsed :  0:00:01\n",
            "  Batch :  180  , Time elapsed :  0:00:01\n"
          ],
          "name": "stdout"
        },
        {
          "output_type": "stream",
          "text": [
            "\n",
            "\n",
            "Epoch:  62%|██████▏   | 31/50 [00:33<00:20,  1.06s/it]\u001b[A\u001b[A"
          ],
          "name": "stderr"
        },
        {
          "output_type": "stream",
          "text": [
            "\n",
            "Train loss for epoch:  0.3550172957934831\n",
            "\n",
            "Training epoch took: 0:00:01\n",
            "\n",
            " Accuracy score for epoch:  0.5854383358098069 \n",
            "\n",
            "  Batch :  30  , Time elapsed :  0:00:00\n",
            "  Batch :  60  , Time elapsed :  0:00:00\n",
            "  Batch :  90  , Time elapsed :  0:00:00\n",
            "  Batch :  120  , Time elapsed :  0:00:01\n",
            "  Batch :  150  , Time elapsed :  0:00:01\n"
          ],
          "name": "stdout"
        },
        {
          "output_type": "stream",
          "text": [
            "\n",
            "\n",
            "Epoch:  64%|██████▍   | 32/50 [00:34<00:19,  1.06s/it]\u001b[A\u001b[A"
          ],
          "name": "stderr"
        },
        {
          "output_type": "stream",
          "text": [
            "  Batch :  180  , Time elapsed :  0:00:01\n",
            "\n",
            "Train loss for epoch:  0.35225241544999575\n",
            "\n",
            "Training epoch took: 0:00:01\n",
            "\n",
            " Accuracy score for epoch:  0.6181277860326895 \n",
            "\n",
            "  Batch :  30  , Time elapsed :  0:00:00\n",
            "  Batch :  60  , Time elapsed :  0:00:00\n",
            "  Batch :  90  , Time elapsed :  0:00:00\n",
            "  Batch :  120  , Time elapsed :  0:00:01\n",
            "  Batch :  150  , Time elapsed :  0:00:01\n",
            "  Batch :  180  , Time elapsed :  0:00:01\n"
          ],
          "name": "stdout"
        },
        {
          "output_type": "stream",
          "text": [
            "\n",
            "\n",
            "Epoch:  66%|██████▌   | 33/50 [00:35<00:18,  1.06s/it]\u001b[A\u001b[A"
          ],
          "name": "stderr"
        },
        {
          "output_type": "stream",
          "text": [
            "\n",
            "Train loss for epoch:  0.3640550167152756\n",
            "\n",
            "Training epoch took: 0:00:01\n",
            "\n",
            " Accuracy score for epoch:  0.6047548291233283 \n",
            "\n",
            "  Batch :  30  , Time elapsed :  0:00:00\n",
            "  Batch :  60  , Time elapsed :  0:00:00\n",
            "  Batch :  90  , Time elapsed :  0:00:00\n",
            "  Batch :  120  , Time elapsed :  0:00:01\n",
            "  Batch :  150  , Time elapsed :  0:00:01\n"
          ],
          "name": "stdout"
        },
        {
          "output_type": "stream",
          "text": [
            "\n",
            "\n",
            "Epoch:  68%|██████▊   | 34/50 [00:36<00:16,  1.06s/it]\u001b[A\u001b[A"
          ],
          "name": "stderr"
        },
        {
          "output_type": "stream",
          "text": [
            "  Batch :  180  , Time elapsed :  0:00:01\n",
            "\n",
            "Train loss for epoch:  0.33803920663501086\n",
            "\n",
            "Training epoch took: 0:00:01\n",
            "\n",
            " Accuracy score for epoch:  0.5943536404160475 \n",
            "\n",
            "  Batch :  30  , Time elapsed :  0:00:00\n",
            "  Batch :  60  , Time elapsed :  0:00:00\n",
            "  Batch :  90  , Time elapsed :  0:00:00\n",
            "  Batch :  120  , Time elapsed :  0:00:01\n",
            "  Batch :  150  , Time elapsed :  0:00:01\n",
            "  Batch :  180  , Time elapsed :  0:00:01\n"
          ],
          "name": "stdout"
        },
        {
          "output_type": "stream",
          "text": [
            "\n",
            "\n",
            "Epoch:  70%|███████   | 35/50 [00:37<00:15,  1.06s/it]\u001b[A\u001b[A"
          ],
          "name": "stderr"
        },
        {
          "output_type": "stream",
          "text": [
            "\n",
            "Train loss for epoch:  0.32717726371790234\n",
            "\n",
            "Training epoch took: 0:00:01\n",
            "\n",
            " Accuracy score for epoch:  0.6151560178306092 \n",
            "\n",
            "  Batch :  30  , Time elapsed :  0:00:00\n",
            "  Batch :  60  , Time elapsed :  0:00:00\n",
            "  Batch :  90  , Time elapsed :  0:00:00\n",
            "  Batch :  120  , Time elapsed :  0:00:01\n",
            "  Batch :  150  , Time elapsed :  0:00:01\n"
          ],
          "name": "stdout"
        },
        {
          "output_type": "stream",
          "text": [
            "\n",
            "\n",
            "Epoch:  72%|███████▏  | 36/50 [00:38<00:14,  1.06s/it]\u001b[A\u001b[A"
          ],
          "name": "stderr"
        },
        {
          "output_type": "stream",
          "text": [
            "  Batch :  180  , Time elapsed :  0:00:01\n",
            "\n",
            "Train loss for epoch:  0.33581722331674474\n",
            "\n",
            "Training epoch took: 0:00:01\n",
            "\n",
            " Accuracy score for epoch:  0.6151560178306092 \n",
            "\n",
            "  Batch :  30  , Time elapsed :  0:00:00\n",
            "  Batch :  60  , Time elapsed :  0:00:00\n",
            "  Batch :  90  , Time elapsed :  0:00:00\n",
            "  Batch :  120  , Time elapsed :  0:00:01\n",
            "  Batch :  150  , Time elapsed :  0:00:01\n",
            "  Batch :  180  , Time elapsed :  0:00:01\n"
          ],
          "name": "stdout"
        },
        {
          "output_type": "stream",
          "text": [
            "\n",
            "\n",
            "Epoch:  74%|███████▍  | 37/50 [00:39<00:13,  1.06s/it]\u001b[A\u001b[A"
          ],
          "name": "stderr"
        },
        {
          "output_type": "stream",
          "text": [
            "\n",
            "Train loss for epoch:  0.3159777098188275\n",
            "\n",
            "Training epoch took: 0:00:01\n",
            "\n",
            " Accuracy score for epoch:  0.6092124814264487 \n",
            "\n",
            "  Batch :  30  , Time elapsed :  0:00:00\n",
            "  Batch :  60  , Time elapsed :  0:00:00\n",
            "  Batch :  90  , Time elapsed :  0:00:00\n",
            "  Batch :  120  , Time elapsed :  0:00:01\n",
            "  Batch :  150  , Time elapsed :  0:00:01\n"
          ],
          "name": "stdout"
        },
        {
          "output_type": "stream",
          "text": [
            "\n",
            "\n",
            "Epoch:  76%|███████▌  | 38/50 [00:40<00:12,  1.06s/it]\u001b[A\u001b[A"
          ],
          "name": "stderr"
        },
        {
          "output_type": "stream",
          "text": [
            "  Batch :  180  , Time elapsed :  0:00:01\n",
            "\n",
            "Train loss for epoch:  0.32287923889724834\n",
            "\n",
            "Training epoch took: 0:00:01\n",
            "\n",
            " Accuracy score for epoch:  0.600297176820208 \n",
            "\n",
            "  Batch :  30  , Time elapsed :  0:00:00\n",
            "  Batch :  60  , Time elapsed :  0:00:00\n",
            "  Batch :  90  , Time elapsed :  0:00:00\n",
            "  Batch :  120  , Time elapsed :  0:00:01\n",
            "  Batch :  150  , Time elapsed :  0:00:01\n",
            "  Batch :  180  , Time elapsed :  0:00:01\n"
          ],
          "name": "stdout"
        },
        {
          "output_type": "stream",
          "text": [
            "\n",
            "\n",
            "Epoch:  78%|███████▊  | 39/50 [00:41<00:11,  1.08s/it]\u001b[A\u001b[A"
          ],
          "name": "stderr"
        },
        {
          "output_type": "stream",
          "text": [
            "\n",
            "Train loss for epoch:  0.30345616411221654\n",
            "\n",
            "Training epoch took: 0:00:01\n",
            "\n",
            " Accuracy score for epoch:  0.586924219910847 \n",
            "\n",
            "  Batch :  30  , Time elapsed :  0:00:00\n",
            "  Batch :  60  , Time elapsed :  0:00:00\n",
            "  Batch :  90  , Time elapsed :  0:00:00\n",
            "  Batch :  120  , Time elapsed :  0:00:01\n",
            "  Batch :  150  , Time elapsed :  0:00:01\n",
            "  Batch :  180  , Time elapsed :  0:00:01\n"
          ],
          "name": "stdout"
        },
        {
          "output_type": "stream",
          "text": [
            "\n",
            "\n",
            "Epoch:  80%|████████  | 40/50 [00:42<00:10,  1.08s/it]\u001b[A\u001b[A"
          ],
          "name": "stderr"
        },
        {
          "output_type": "stream",
          "text": [
            "\n",
            "Train loss for epoch:  0.29071539271818964\n",
            "\n",
            "Training epoch took: 0:00:01\n",
            "\n",
            " Accuracy score for epoch:  0.6166419019316494 \n",
            "\n",
            "  Batch :  30  , Time elapsed :  0:00:00\n",
            "  Batch :  60  , Time elapsed :  0:00:00\n",
            "  Batch :  90  , Time elapsed :  0:00:00\n",
            "  Batch :  120  , Time elapsed :  0:00:01\n",
            "  Batch :  150  , Time elapsed :  0:00:01\n"
          ],
          "name": "stdout"
        },
        {
          "output_type": "stream",
          "text": [
            "\n",
            "\n",
            "Epoch:  82%|████████▏ | 41/50 [00:43<00:09,  1.07s/it]\u001b[A\u001b[A"
          ],
          "name": "stderr"
        },
        {
          "output_type": "stream",
          "text": [
            "  Batch :  180  , Time elapsed :  0:00:01\n",
            "\n",
            "Train loss for epoch:  0.2817817334281771\n",
            "\n",
            "Training epoch took: 0:00:01\n",
            "\n",
            " Accuracy score for epoch:  0.6047548291233283 \n",
            "\n",
            "  Batch :  30  , Time elapsed :  0:00:00\n",
            "  Batch :  60  , Time elapsed :  0:00:00\n",
            "  Batch :  90  , Time elapsed :  0:00:00\n",
            "  Batch :  120  , Time elapsed :  0:00:01\n",
            "  Batch :  150  , Time elapsed :  0:00:01\n",
            "  Batch :  180  , Time elapsed :  0:00:01\n"
          ],
          "name": "stdout"
        },
        {
          "output_type": "stream",
          "text": [
            "\n",
            "\n",
            "Epoch:  84%|████████▍ | 42/50 [00:45<00:08,  1.07s/it]\u001b[A\u001b[A"
          ],
          "name": "stderr"
        },
        {
          "output_type": "stream",
          "text": [
            "\n",
            "Train loss for epoch:  0.2827037862453021\n",
            "\n",
            "Training epoch took: 0:00:01\n",
            "\n",
            " Accuracy score for epoch:  0.5943536404160475 \n",
            "\n",
            "  Batch :  30  , Time elapsed :  0:00:00\n",
            "  Batch :  60  , Time elapsed :  0:00:00\n",
            "  Batch :  90  , Time elapsed :  0:00:00\n",
            "  Batch :  120  , Time elapsed :  0:00:01\n",
            "  Batch :  150  , Time elapsed :  0:00:01\n"
          ],
          "name": "stdout"
        },
        {
          "output_type": "stream",
          "text": [
            "\n",
            "\n",
            "Epoch:  86%|████████▌ | 43/50 [00:46<00:07,  1.07s/it]\u001b[A\u001b[A"
          ],
          "name": "stderr"
        },
        {
          "output_type": "stream",
          "text": [
            "  Batch :  180  , Time elapsed :  0:00:01\n",
            "\n",
            "Train loss for epoch:  0.281529520412809\n",
            "\n",
            "Training epoch took: 0:00:01\n",
            "\n",
            " Accuracy score for epoch:  0.5973254086181278 \n",
            "\n",
            "  Batch :  30  , Time elapsed :  0:00:00\n",
            "  Batch :  60  , Time elapsed :  0:00:00\n",
            "  Batch :  90  , Time elapsed :  0:00:01\n",
            "  Batch :  120  , Time elapsed :  0:00:01\n",
            "  Batch :  150  , Time elapsed :  0:00:01\n",
            "  Batch :  180  , Time elapsed :  0:00:01\n"
          ],
          "name": "stdout"
        },
        {
          "output_type": "stream",
          "text": [
            "\n",
            "\n",
            "Epoch:  88%|████████▊ | 44/50 [00:47<00:06,  1.07s/it]\u001b[A\u001b[A"
          ],
          "name": "stderr"
        },
        {
          "output_type": "stream",
          "text": [
            "\n",
            "Train loss for epoch:  0.2604136444236103\n",
            "\n",
            "Training epoch took: 0:00:01\n",
            "\n",
            " Accuracy score for epoch:  0.5988112927191679 \n",
            "\n",
            "  Batch :  30  , Time elapsed :  0:00:00\n",
            "  Batch :  60  , Time elapsed :  0:00:00\n",
            "  Batch :  90  , Time elapsed :  0:00:01\n",
            "  Batch :  120  , Time elapsed :  0:00:01\n",
            "  Batch :  150  , Time elapsed :  0:00:01\n"
          ],
          "name": "stdout"
        },
        {
          "output_type": "stream",
          "text": [
            "\n",
            "\n",
            "Epoch:  90%|█████████ | 45/50 [00:48<00:05,  1.07s/it]\u001b[A\u001b[A"
          ],
          "name": "stderr"
        },
        {
          "output_type": "stream",
          "text": [
            "  Batch :  180  , Time elapsed :  0:00:01\n",
            "\n",
            "Train loss for epoch:  0.24813473838332453\n",
            "\n",
            "Training epoch took: 0:00:01\n",
            "\n",
            " Accuracy score for epoch:  0.600297176820208 \n",
            "\n",
            "  Batch :  30  , Time elapsed :  0:00:00\n",
            "  Batch :  60  , Time elapsed :  0:00:00\n",
            "  Batch :  90  , Time elapsed :  0:00:00\n",
            "  Batch :  120  , Time elapsed :  0:00:01\n",
            "  Batch :  150  , Time elapsed :  0:00:01\n",
            "  Batch :  180  , Time elapsed :  0:00:01\n"
          ],
          "name": "stdout"
        },
        {
          "output_type": "stream",
          "text": [
            "\n",
            "\n",
            "Epoch:  92%|█████████▏| 46/50 [00:49<00:04,  1.07s/it]\u001b[A\u001b[A"
          ],
          "name": "stderr"
        },
        {
          "output_type": "stream",
          "text": [
            "\n",
            "Train loss for epoch:  0.2781142808496952\n",
            "\n",
            "Training epoch took: 0:00:01\n",
            "\n",
            " Accuracy score for epoch:  0.612184249628529 \n",
            "\n",
            "  Batch :  30  , Time elapsed :  0:00:00\n",
            "  Batch :  60  , Time elapsed :  0:00:00\n",
            "  Batch :  90  , Time elapsed :  0:00:00\n",
            "  Batch :  120  , Time elapsed :  0:00:01\n",
            "  Batch :  150  , Time elapsed :  0:00:01\n"
          ],
          "name": "stdout"
        },
        {
          "output_type": "stream",
          "text": [
            "\n",
            "\n",
            "Epoch:  94%|█████████▍| 47/50 [00:50<00:03,  1.06s/it]\u001b[A\u001b[A"
          ],
          "name": "stderr"
        },
        {
          "output_type": "stream",
          "text": [
            "  Batch :  180  , Time elapsed :  0:00:01\n",
            "\n",
            "Train loss for epoch:  0.26156938826959386\n",
            "\n",
            "Training epoch took: 0:00:01\n",
            "\n",
            " Accuracy score for epoch:  0.5854383358098069 \n",
            "\n",
            "  Batch :  30  , Time elapsed :  0:00:00\n",
            "  Batch :  60  , Time elapsed :  0:00:00\n",
            "  Batch :  90  , Time elapsed :  0:00:00\n",
            "  Batch :  120  , Time elapsed :  0:00:01\n",
            "  Batch :  150  , Time elapsed :  0:00:01\n",
            "  Batch :  180  , Time elapsed :  0:00:01\n"
          ],
          "name": "stdout"
        },
        {
          "output_type": "stream",
          "text": [
            "\n",
            "\n",
            "Epoch:  96%|█████████▌| 48/50 [00:51<00:02,  1.06s/it]\u001b[A\u001b[A"
          ],
          "name": "stderr"
        },
        {
          "output_type": "stream",
          "text": [
            "\n",
            "Train loss for epoch:  0.2644241298695928\n",
            "\n",
            "Training epoch took: 0:00:01\n",
            "\n",
            " Accuracy score for epoch:  0.5809806835066865 \n",
            "\n",
            "  Batch :  30  , Time elapsed :  0:00:00\n",
            "  Batch :  60  , Time elapsed :  0:00:00\n",
            "  Batch :  90  , Time elapsed :  0:00:00\n",
            "  Batch :  120  , Time elapsed :  0:00:01\n",
            "  Batch :  150  , Time elapsed :  0:00:01\n"
          ],
          "name": "stdout"
        },
        {
          "output_type": "stream",
          "text": [
            "\n",
            "\n",
            "Epoch:  98%|█████████▊| 49/50 [00:52<00:01,  1.06s/it]\u001b[A\u001b[A"
          ],
          "name": "stderr"
        },
        {
          "output_type": "stream",
          "text": [
            "  Batch :  180  , Time elapsed :  0:00:01\n",
            "\n",
            "Train loss for epoch:  0.2714471044509034\n",
            "\n",
            "Training epoch took: 0:00:01\n",
            "\n",
            " Accuracy score for epoch:  0.5973254086181278 \n",
            "\n",
            "  Batch :  30  , Time elapsed :  0:00:00\n",
            "  Batch :  60  , Time elapsed :  0:00:00\n",
            "  Batch :  90  , Time elapsed :  0:00:00\n",
            "  Batch :  120  , Time elapsed :  0:00:01\n",
            "  Batch :  150  , Time elapsed :  0:00:01\n",
            "  Batch :  180  , Time elapsed :  0:00:01\n"
          ],
          "name": "stdout"
        },
        {
          "output_type": "stream",
          "text": [
            "\n",
            "\n",
            "Epoch: 100%|██████████| 50/50 [00:53<00:00,  1.07s/it]"
          ],
          "name": "stderr"
        },
        {
          "output_type": "stream",
          "text": [
            "\n",
            "Train loss for epoch:  0.24531019182973787\n",
            "\n",
            "Training epoch took: 0:00:01\n",
            "\n",
            " Accuracy score for epoch:  0.5913818722139673 \n",
            "\n"
          ],
          "name": "stdout"
        },
        {
          "output_type": "stream",
          "text": [
            "\n"
          ],
          "name": "stderr"
        },
        {
          "output_type": "display_data",
          "data": {
            "image/png": "[encoded data removed]",
            "text/plain": [
              "<Figure size 864x432 with 1 Axes>"
            ]
          },
          "metadata": {
            "tags": []
          }
        },
        {
          "output_type": "display_data",
          "data": {
            "image/png": "[encoded data removed]",
            "text/plain": [
              "<Figure size 864x432 with 1 Axes>"
            ]
          },
          "metadata": {
            "tags": []
          }
        },
        {
          "output_type": "execute_result",
          "data": {
            "text/html": [
              "<div>\n",
              "<style scoped>\n",
              "    .dataframe tbody tr th:only-of-type {\n",
              "        vertical-align: middle;\n",
              "    }\n",
              "\n",
              "    .dataframe tbody tr th {\n",
              "        vertical-align: top;\n",
              "    }\n",
              "\n",
              "    .dataframe thead th {\n",
              "        text-align: right;\n",
              "    }\n",
              "</style>\n",
              "<table border=\"1\" class=\"dataframe\">\n",
              "  <thead>\n",
              "    <tr style=\"text-align: right;\">\n",
              "      <th></th>\n",
              "      <th>Accuracy</th>\n",
              "      <th>Precision</th>\n",
              "      <th>Recall</th>\n",
              "      <th>F_Score</th>\n",
              "    </tr>\n",
              "  </thead>\n",
              "  <tbody>\n",
              "    <tr>\n",
              "      <th>metrics</th>\n",
              "      <td>0.61022</td>\n",
              "      <td>0.0</td>\n",
              "      <td>0.0</td>\n",
              "      <td>0.0</td>\n",
              "    </tr>\n",
              "  </tbody>\n",
              "</table>\n",
              "</div>"
            ],
            "text/plain": [
              "         Accuracy  Precision  Recall  F_Score\n",
              "metrics   0.61022        0.0     0.0      0.0"
            ]
          },
          "metadata": {
            "tags": []
          },
          "execution_count": 20
        }
      ]
    },
    {
      "cell_type": "code",
      "metadata": {
        "id": "eW4ZF1TEYyVO",
        "colab_type": "code",
        "colab": {}
      },
      "source": [
        ""
      ],
      "execution_count": null,
      "outputs": []
    },
    {
      "cell_type": "code",
      "metadata": {
        "id": "8c7r7PDIoZlH",
        "colab_type": "code",
        "colab": {}
      },
      "source": [
        "'''import pandas as pd\n",
        "dataset_embeddings = pd.read_pickle('/content/drive/My Drive/dataset/fact_validation_dataset.pkl')\n",
        "\n",
        "import torch\n",
        "from sklearn.model_selection import train_test_split\n",
        "\n",
        "def Train_Test_Val_Split(data , test_data_fraction = 0.2, val_data_fraction = 0.1) :\n",
        "    \n",
        "    Data_train, Data_test, Labels_train, Labels_test = train_test_split(data, list(data['Labels']), test_size = test_data_fraction)\n",
        "    Data_train, Data_val, Labels_train, Labels_val = train_test_split(Data_train, Labels_train, test_size = val_data_fraction)\n",
        "\n",
        "    Labels_train = torch.tensor(Labels_train)\n",
        "    Labels_test = torch.tensor(Labels_test)\n",
        "    Labels_val = torch.tensor(Labels_val)\n",
        "\n",
        "    Data_train = Data_train.reset_index(drop=True)\n",
        "    Data_test = Data_test.reset_index(drop=True)\n",
        "    Data_val = Data_val.reset_index(drop=True)\n",
        "    \n",
        "\n",
        "    return (Data_train, Data_test, Data_val, Labels_train, Labels_test, Labels_val)\n",
        "    \n",
        "Data_train, Data_test, Data_val, Labels_train_tensor, Labels_test_tensor, Labels_val_tensor = Train_Test_Val_Split(dataset_embeddings)\n",
        "\n",
        "Data_train_tensor_claims = torch.tensor(Data_train['Claims'])\n",
        "Data_test_tensor_claims = torch.tensor(Data_test['Claims'])\n",
        "Data_val_tensor_claims = torch.tensor(Data_val['Claims'])\n",
        "\n",
        "Data_train_tensor_evidences = torch.tensor(Data_train['Evidences'])\n",
        "Data_test_tensor_evidences = torch.tensor(Data_test['Evidences'])\n",
        "Data_val_tensor_evidences = torch.tensor(Data_val['Evidences'])'''"
      ],
      "execution_count": null,
      "outputs": []
    }
  ]
}